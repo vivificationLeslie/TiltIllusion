{
  "nbformat": 4,
  "nbformat_minor": 0,
  "metadata": {
    "colab": {
      "name": "generate_stimulus.ipynb",
      "provenance": [],
      "collapsed_sections": [],
      "toc_visible": true,
      "include_colab_link": true
    },
    "kernelspec": {
      "name": "python3",
      "display_name": "Python 3"
    },
    "accelerator": "GPU"
  },
  "cells": [
    {
      "cell_type": "markdown",
      "metadata": {
        "id": "view-in-github",
        "colab_type": "text"
      },
      "source": [
        "<a href=\"https://colab.research.google.com/github/vivificationLeslie/TiltedIllusion/blob/master/generate_stimulus.ipynb\" target=\"_parent\"><img src=\"https://colab.research.google.com/assets/colab-badge.svg\" alt=\"Open In Colab\"/></a>"
      ]
    },
    {
      "cell_type": "code",
      "metadata": {
        "id": "DAnXzIRiM5vF",
        "colab_type": "code",
        "colab": {
          "base_uri": "https://localhost:8080/",
          "height": 124
        },
        "outputId": "edddb1fb-f754-437f-8959-b596cff29aa9"
      },
      "source": [
        "from google.colab import drive\n",
        "drive.mount('/content/drive')"
      ],
      "execution_count": 1,
      "outputs": [
        {
          "output_type": "stream",
          "text": [
            "Go to this URL in a browser: https://accounts.google.com/o/oauth2/auth?client_id=947318989803-6bn6qk8qdgf4n4g3pfee6491hc0brc4i.apps.googleusercontent.com&redirect_uri=urn%3aietf%3awg%3aoauth%3a2.0%3aoob&response_type=code&scope=email%20https%3a%2f%2fwww.googleapis.com%2fauth%2fdocs.test%20https%3a%2f%2fwww.googleapis.com%2fauth%2fdrive%20https%3a%2f%2fwww.googleapis.com%2fauth%2fdrive.photos.readonly%20https%3a%2f%2fwww.googleapis.com%2fauth%2fpeopleapi.readonly\n",
            "\n",
            "Enter your authorization code:\n",
            "··········\n",
            "Mounted at /content/drive\n"
          ],
          "name": "stdout"
        }
      ]
    },
    {
      "cell_type": "code",
      "metadata": {
        "id": "1WaqlX6E9Mja",
        "colab_type": "code",
        "colab": {}
      },
      "source": [
        "%matplotlib inline\n",
        "from pylab import *\n",
        "import os, shutil, os.path as path\n",
        "from skimage import filters\n",
        "os.chdir(\"drive/My Drive/Colab Notebooks/Tilt_Illusion\") "
      ],
      "execution_count": 1,
      "outputs": []
    },
    {
      "cell_type": "code",
      "metadata": {
        "id": "HhYyvYeQPaOF",
        "colab_type": "code",
        "colab": {
          "base_uri": "https://localhost:8080/",
          "height": 523
        },
        "outputId": "3f82559c-f385-4e0e-83fa-7b11984db489"
      },
      "source": [
        "!pip install scikit-image -U"
      ],
      "execution_count": 3,
      "outputs": [
        {
          "output_type": "stream",
          "text": [
            "Collecting scikit-image\n",
            "\u001b[?25l  Downloading https://files.pythonhosted.org/packages/0e/ba/53e1bfbdfd0f94514d71502e3acea494a8b4b57c457adbc333ef386485da/scikit_image-0.17.2-cp36-cp36m-manylinux1_x86_64.whl (12.4MB)\n",
            "\u001b[K     |████████████████████████████████| 12.4MB 243kB/s \n",
            "\u001b[?25hRequirement already satisfied, skipping upgrade: numpy>=1.15.1 in /usr/local/lib/python3.6/dist-packages (from scikit-image) (1.18.5)\n",
            "Requirement already satisfied, skipping upgrade: scipy>=1.0.1 in /usr/local/lib/python3.6/dist-packages (from scikit-image) (1.4.1)\n",
            "Requirement already satisfied, skipping upgrade: networkx>=2.0 in /usr/local/lib/python3.6/dist-packages (from scikit-image) (2.4)\n",
            "Requirement already satisfied, skipping upgrade: pillow!=7.1.0,!=7.1.1,>=4.3.0 in /usr/local/lib/python3.6/dist-packages (from scikit-image) (7.0.0)\n",
            "Requirement already satisfied, skipping upgrade: tifffile>=2019.7.26 in /usr/local/lib/python3.6/dist-packages (from scikit-image) (2020.7.17)\n",
            "Requirement already satisfied, skipping upgrade: PyWavelets>=1.1.1 in /usr/local/lib/python3.6/dist-packages (from scikit-image) (1.1.1)\n",
            "Requirement already satisfied, skipping upgrade: imageio>=2.3.0 in /usr/local/lib/python3.6/dist-packages (from scikit-image) (2.4.1)\n",
            "Requirement already satisfied, skipping upgrade: matplotlib!=3.0.0,>=2.0.0 in /usr/local/lib/python3.6/dist-packages (from scikit-image) (3.2.2)\n",
            "Requirement already satisfied, skipping upgrade: decorator>=4.3.0 in /usr/local/lib/python3.6/dist-packages (from networkx>=2.0->scikit-image) (4.4.2)\n",
            "Requirement already satisfied, skipping upgrade: pyparsing!=2.0.4,!=2.1.2,!=2.1.6,>=2.0.1 in /usr/local/lib/python3.6/dist-packages (from matplotlib!=3.0.0,>=2.0.0->scikit-image) (2.4.7)\n",
            "Requirement already satisfied, skipping upgrade: kiwisolver>=1.0.1 in /usr/local/lib/python3.6/dist-packages (from matplotlib!=3.0.0,>=2.0.0->scikit-image) (1.2.0)\n",
            "Requirement already satisfied, skipping upgrade: python-dateutil>=2.1 in /usr/local/lib/python3.6/dist-packages (from matplotlib!=3.0.0,>=2.0.0->scikit-image) (2.8.1)\n",
            "Requirement already satisfied, skipping upgrade: cycler>=0.10 in /usr/local/lib/python3.6/dist-packages (from matplotlib!=3.0.0,>=2.0.0->scikit-image) (0.10.0)\n",
            "Requirement already satisfied, skipping upgrade: six>=1.5 in /usr/local/lib/python3.6/dist-packages (from python-dateutil>=2.1->matplotlib!=3.0.0,>=2.0.0->scikit-image) (1.15.0)\n",
            "\u001b[31mERROR: albumentations 0.1.12 has requirement imgaug<0.2.7,>=0.2.5, but you'll have imgaug 0.2.9 which is incompatible.\u001b[0m\n",
            "Installing collected packages: scikit-image\n",
            "  Found existing installation: scikit-image 0.16.2\n",
            "    Uninstalling scikit-image-0.16.2:\n",
            "      Successfully uninstalled scikit-image-0.16.2\n",
            "Successfully installed scikit-image-0.17.2\n"
          ],
          "name": "stdout"
        },
        {
          "output_type": "display_data",
          "data": {
            "application/vnd.colab-display-data+json": {
              "pip_warning": {
                "packages": [
                  "skimage"
                ]
              }
            }
          },
          "metadata": {
            "tags": []
          }
        }
      ]
    },
    {
      "cell_type": "code",
      "metadata": {
        "id": "dU-xTpGiWagb",
        "colab_type": "code",
        "colab": {}
      },
      "source": [
        "!pip list"
      ],
      "execution_count": null,
      "outputs": []
    },
    {
      "cell_type": "markdown",
      "metadata": {
        "id": "ckkHCmkE9WQh",
        "colab_type": "text"
      },
      "source": [
        "# Helper function"
      ]
    },
    {
      "cell_type": "code",
      "metadata": {
        "id": "R0lPLiNB9OGQ",
        "colab_type": "code",
        "colab": {}
      },
      "source": [
        "def init_colors(color1, color2):\n",
        "    if color1 is None:\n",
        "        color1 = [1,1,1]\n",
        "    elif color1 == 'random':\n",
        "        color1 = np.random.rand(3)\n",
        "    if color2 is None:\n",
        "        color2 = [0,0,0]\n",
        "    elif color2 == 'random':\n",
        "        color2 = np.random.rand(3)\n",
        "    return color1, color2\n",
        "\n",
        "def grating(size=[100,100], ori=0, bar_width=5, phase=0, waveform='sin',\n",
        "        color1=None, color2=None, contrast=1, shape=[229,229], alpha=True):\n",
        "    '''\n",
        "    Generate a grating of specified orientation, spatial frequency, phase, etc.\n",
        "    '''\n",
        "    color1, color2 = init_colors(color1, color2)\n",
        "    H, W = shape\n",
        "    x, y = np.meshgrid(np.arange(W)-(W-1)/2, np.arange(H)[::-1]-(H-1)/2)\n",
        "    h, w = size\n",
        "    outline = ((x/(w/2))**2 + (y/(w/2))**2 < 1)[...,np.newaxis]\n",
        "    texture = 0.5 + 0.5*contrast*np.cos(pi/bar_width * (x*np.cos(ori)+y*np.sin(ori)) + phase)[...,np.newaxis] \n",
        "    if waveform == 'square':\n",
        "        texture = (texture > 0.5)\n",
        "    texture = texture * np.reshape(color1, [1,1,-1]) + (1-texture) * np.reshape(color2, [1,1,-1])\n",
        "    if alpha:\n",
        "        im = np.dstack([texture, outline])\n",
        "    else:\n",
        "        im = outline * texture + (1-outline) * 0.5\n",
        "    return im\n",
        "\n",
        "def band_limit_noise(sigma=5, color1=None, color2=None, contrast=1, shape=[229,229], alpha=True):\n",
        "    '''\n",
        "    Generate a noisy background image (band-limited Gaussian random noise).\n",
        "    '''\n",
        "    color1, color2 = init_colors(color1, color2)\n",
        "    im = np.random.rand(*shape)\n",
        "    im = filters.difference_of_gaussians(im, low_sigma=sigma, high_sigma=None, mode='wrap')\n",
        "    im = 0.5 + 0.5*contrast*im/np.max(np.abs(im))\n",
        "    im = im[...,np.newaxis]\n",
        "    im = im * np.reshape(color1, [1,1,-1]) + (1-im) * np.reshape(color2, [1,1,-1])\n",
        "    if alpha:\n",
        "        im = np.dstack([im, np.ones(im.shape[:2])])\n",
        "    return im\n",
        "\n",
        "def alpha_blend(im1, im2, alpha='max'):\n",
        "    '''\n",
        "    Overlay im1 on im2, blending according to the alpha channel of im1.\n",
        "    '''\n",
        "    im = im1[...,3:] * im1[...,:3] + (1-im1[...,3:]) * im2[...,:3]\n",
        "    if alpha is None:\n",
        "        alpha = np.ones(im.shape[:2])\n",
        "    elif alpha == 'max':\n",
        "        alpha = np.maximum(im1[...,3], im2[...,3])\n",
        "    im = np.dstack([im, alpha])\n",
        "    return im"
      ],
      "execution_count": 2,
      "outputs": []
    },
    {
      "cell_type": "markdown",
      "metadata": {
        "id": "u2zQkeKE9ikx",
        "colab_type": "text"
      },
      "source": [
        "# Simple gratings without inducer"
      ]
    },
    {
      "cell_type": "code",
      "metadata": {
        "id": "CLX2dOUU9Z8A",
        "colab_type": "code",
        "colab": {
          "base_uri": "https://localhost:8080/",
          "height": 121
        },
        "outputId": "32a9fa89-caab-412d-eca9-74e262b0d5a0"
      },
      "source": [
        "bar_width = 10\n",
        "grating_size = [70,70]\n",
        "phases = np.linspace(0, np.pi, 5) # np.arange(0, 2*np.pi, 2*np.pi/5)\n",
        "contrasts = [1]\n",
        "N = 20\n",
        "stages = ['train', 'val']\n",
        "ori_inners = np.arange(-np.pi/4, 0, 5/180*np.pi)\n",
        "val_inners = np.arange(-np.pi/4+np.pi/36, np.pi/36, 5/180*np.pi) \n",
        "\n",
        "def generate_simple_grating(foldername, ori_inners):\n",
        "    print(foldername)\n",
        "    os.makedirs(foldername)\n",
        "    k = 0\n",
        "    for ori in ori_inners:\n",
        "        for phase in phases:\n",
        "            for contrast in contrasts:\n",
        "                for n in range(N):\n",
        "                    inner = grating(size=grating_size, ori=-ori, bar_width=bar_width, phase=phase, contrast=contrast)\n",
        "                    bg = band_limit_noise(color2=None)\n",
        "                    im = alpha_blend(inner, bg)\n",
        "                    imsave(f\"{foldername}/{k:04d}_ori{ori/np.pi*180:.0f}_w{bar_width:02d}_p{phase*180/np.pi:.0f}_c{contrast*100:03d}.jpg\", im)\n",
        "                    k += 1\n",
        "\n",
        "for stage in stages:\n",
        "    shutil.rmtree(f'gratings/{stage}')\n",
        "    generate_simple_grating(f'gratings/{stage}/0-left', ori_inners)\n",
        "    generate_simple_grating(f'gratings/{stage}/1-right', -ori_inners)\n",
        "    generate_simple_grating(f'gratings/{stage}/2-vertical', np.array([0,0,0,0,0,0,0,0,0]))"
      ],
      "execution_count": 4,
      "outputs": [
        {
          "output_type": "stream",
          "text": [
            "gratings/train/0-left\n",
            "gratings/train/1-right\n",
            "gratings/train/2-vertical\n",
            "gratings/val/0-left\n",
            "gratings/val/1-right\n",
            "gratings/val/2-vertical\n"
          ],
          "name": "stdout"
        }
      ]
    },
    {
      "cell_type": "code",
      "metadata": {
        "id": "fc2UuBp0bj2b",
        "colab_type": "code",
        "colab": {
          "base_uri": "https://localhost:8080/",
          "height": 52
        },
        "outputId": "7c5c2a54-67da-4152-8dd7-527dfb5b474a"
      },
      "source": [
        "ori_inners = np.arange(-np.pi/4, 0, 5/180*np.pi) \n",
        "print(ori_inners)"
      ],
      "execution_count": null,
      "outputs": [
        {
          "output_type": "stream",
          "text": [
            "[-0.78539816 -0.6981317  -0.61086524 -0.52359878 -0.43633231 -0.34906585\n",
            " -0.26179939 -0.17453293 -0.08726646]\n"
          ],
          "name": "stdout"
        }
      ]
    },
    {
      "cell_type": "markdown",
      "metadata": {
        "id": "3wkJlDMn90PZ",
        "colab_type": "text"
      },
      "source": [
        "# illusory gratings with inducer"
      ]
    },
    {
      "cell_type": "code",
      "metadata": {
        "id": "M_A_UNf29yzz",
        "colab_type": "code",
        "colab": {
          "base_uri": "https://localhost:8080/",
          "height": 69
        },
        "outputId": "dd477e32-a7f5-45e6-ab84-53bff509f96e"
      },
      "source": [
        "bar_width = 10\n",
        "grating_size_inner = [70]*2\n",
        "grating_size_outer = [180]*2\n",
        "phases = np.linspace(0, np.pi, 5)  # np.arange(0, 2*np.pi, 2*np.pi/5)\n",
        "contrasts = [1]\n",
        "N = 2\n",
        "stages = ['test']\n",
        "ori_inners = [0]\n",
        "ori_outers = np.arange(-np.pi/6, 0, 5/180*np.pi)\n",
        "\n",
        "\n",
        "def generate_illusory_grating(foldername, ori_inners, ori_outers):\n",
        "    print(foldername)\n",
        "    os.makedirs(foldername)\n",
        "    k = 0\n",
        "    for ori_inner in ori_inners:\n",
        "        for ori_outer in ori_outers:\n",
        "            for phase in phases:\n",
        "                for contrast in contrasts:\n",
        "                    for n in range(N):\n",
        "                        inner = grating(size=grating_size_inner, ori=-ori_inner, bar_width=bar_width, phase=phase, contrast=contrast)\n",
        "                        outer = grating(size=grating_size_outer, ori=-ori_outer, bar_width=bar_width, phase=phase, contrast=contrast)\n",
        "                        bg = band_limit_noise(color2=None)\n",
        "                        im = alpha_blend(inner, outer)\n",
        "                        im = alpha_blend(im, bg)\n",
        "                        imsave(f\"{foldername}/{k:04d}_orii{ori_inner/np.pi*180:.0f}_orio{ori_outer/np.pi*180:.0f}_w{bar_width:02d}_p{phase*180/np.pi:.0f}_c{contrast*100:03d}.jpg\", im)\n",
        "                        k += 1\n",
        "\n",
        "for stage in stages:\n",
        "    if path.exists(f'gratings/{stage}'):\n",
        "        shutil.rmtree(f'gratings/{stage}')\n",
        "    generate_illusory_grating(f'gratings/{stage}/0-left', ori_inners, -ori_outers)\n",
        "    generate_illusory_grating(f'gratings/{stage}/1-right', ori_inners, ori_outers)\n",
        "    generate_illusory_grating(f'gratings/{stage}/2-vertical', ori_inners, [0])"
      ],
      "execution_count": 5,
      "outputs": [
        {
          "output_type": "stream",
          "text": [
            "gratings/test/0-left\n",
            "gratings/test/1-right\n",
            "gratings/test/2-vertical\n"
          ],
          "name": "stdout"
        }
      ]
    }
  ]
}